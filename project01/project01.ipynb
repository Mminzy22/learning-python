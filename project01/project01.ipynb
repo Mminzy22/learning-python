{
 "cells": [
  {
   "cell_type": "code",
   "execution_count": null,
   "metadata": {},
   "outputs": [],
   "source": [
    "# random 모듈 사용하기\n",
    "import random\n",
    "\n",
    "# 게임 종료할 때까지 반복\n",
    "while True:\n",
    "    # 메뉴 출력하기\n",
    "    print(\"1. 게임시작\")\n",
    "    print(\"2. 종료\")\n",
    "    # 메뉴 선택 input() 통해서 입력받기\n",
    "    choice = input(\"번호를 선택하셔유 > \")\n",
    "\n",
    "    # '1'을 선택한 경우 실행\n",
    "    if choice == \"1\":\n",
    "        # random.randint(1, 10) 이용해서 1과 10사이 숫자 랜덤 선택\n",
    "        com = random.randint(1, 10)\n",
    "        print(\"컴퓨터가 1과 10 사이의 숫자 랜덤으로 정했음. 숫자 맞추셈\")\n",
    "\n",
    "        # 게임 진행 반복문\n",
    "        while True:\n",
    "            try:\n",
    "                # 숫자 입력시 int로 변환하기\n",
    "                pl_num = int(input(\"예상 숫자 적으셈: \"))\n",
    "                # 입력한 숫자가 1과 10 사이인지 확인하기\n",
    "                if 0< pl_num < 11:\n",
    "                    # 입력한 값이 랜덤으로 적힌 수보다 클 경우\n",
    "                    if pl_num > com:\n",
    "                        print(\"너가 적은 숫자가 더 큼.\")\n",
    "                    # 입력한 값이 랜덤으로 적힌 수보다 작을 경우\n",
    "                    elif pl_num < com:\n",
    "                        print(\"너가 적은 숫자가 더 작음\")\n",
    "                    # 정답 맞췄을 경우\n",
    "                    else:\n",
    "                        print(\"****************정답임****************\")\n",
    "                        # 내부 반복문 종료(게임 진행 종료)\n",
    "                        break\n",
    "                # 숫자가 1과 10 사이가 아닌 경우 경고 메시지\n",
    "                else:\n",
    "                    print(\"1과 10 사이의 숫자를 적으셈\")\n",
    "            # 입력 값이 숫자가 아닌 경우 예외 처리\n",
    "            except ValueError:\n",
    "                print(\"숫자만 입력해야됨. 다시 입력하셈\")\n",
    "    # '2' 선택시 게임 종료\n",
    "    elif choice == \"2\":\n",
    "        print(\"게임 종료\")\n",
    "        break\n",
    "    # 잘못된 번호를 선택한 경우\n",
    "    else:\n",
    "        print(\"제대로 된 번호 입력 하셈\")"
   ]
  }
 ],
 "metadata": {
  "kernelspec": {
   "display_name": "myenv",
   "language": "python",
   "name": "python3"
  },
  "language_info": {
   "codemirror_mode": {
    "name": "ipython",
    "version": 3
   },
   "file_extension": ".py",
   "mimetype": "text/x-python",
   "name": "python",
   "nbconvert_exporter": "python",
   "pygments_lexer": "ipython3",
   "version": "3.9.20"
  }
 },
 "nbformat": 4,
 "nbformat_minor": 2
}
