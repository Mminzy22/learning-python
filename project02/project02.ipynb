{
 "cells": [
  {
   "cell_type": "code",
   "execution_count": null,
   "metadata": {},
   "outputs": [],
   "source": [
    "# 클래스 선언하기\n",
    "class Person:\n",
    "\n",
    "    # __init__ 함수 생성하기 : 객체 생성할 때 초기화\n",
    "    def __init__(self, name, age, gender):\n",
    "        # self에 매개변수 값 저장하기\n",
    "        self.name = name\n",
    "        self.age = age\n",
    "\n",
    "        # gender 값이 해당 값이 아닌 경우에 다시 입력 받도록 하기 : 유효성 검사\n",
    "        while gender not in [\"male\", \"female\"]:\n",
    "            print(\"*****male 또는 female만 입력 가능*****\")\n",
    "            #lower() 함수 사용해서 입력 값소문자로 만들기\n",
    "            gender = input(\"성별 재입력: \").lower()\n",
    "        # 유효성 검사 통과시 값 저장\n",
    "        self.gender = gender\n",
    "\n",
    "    # 객체를 출력하거나 시각적으로 표현할 때 사용하는 메서드 생성: 객체를 문자열로 반환\n",
    "    def __repr__(self):\n",
    "        return f\"이름: {self.name}, 성별: {self.gender}\\n나이: {self.age}\"\n",
    "\n",
    "    # 사용자 나이에 따른 메시지 출력하는 메서드 생성\n",
    "    def greet(self):\n",
    "        # 나이 19세 초과시\n",
    "        if self.age > 19:\n",
    "            print(\"성인인가요? 안녕하세여\")\n",
    "        # 19세 이하인 경우\n",
    "        else:\n",
    "            print(\"너 미성년자임? 안녕\")\n",
    "\n",
    "# 사용자가 입력할 수 있도록 input()사용\n",
    "name = input(\"이름: \")\n",
    "age = int(input(\"나이: \"))\n",
    "#lower() 함수 사용해서 입력 값소문자로 만들기\n",
    "gender = input(\"성별 (male/female): \").lower()\n",
    "\n",
    "# 객체 생성\n",
    "person = Person(name, age, gender)\n",
    "\n",
    "# __repr__메서드 출력 결과 : Jupyter Notebook에서 사용 가능\n",
    "display(person)\n",
    "# greet 메서드 호출하기\n",
    "person.greet()"
   ]
  }
 ],
 "metadata": {
  "kernelspec": {
   "display_name": "myenv",
   "language": "python",
   "name": "python3"
  },
  "language_info": {
   "codemirror_mode": {
    "name": "ipython",
    "version": 3
   },
   "file_extension": ".py",
   "mimetype": "text/x-python",
   "name": "python",
   "nbconvert_exporter": "python",
   "pygments_lexer": "ipython3",
   "version": "3.9.20"
  }
 },
 "nbformat": 4,
 "nbformat_minor": 2
}
